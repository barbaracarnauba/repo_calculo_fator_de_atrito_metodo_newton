{
  "nbformat": 4,
  "nbformat_minor": 0,
  "metadata": {
    "kernelspec": {
      "display_name": "Python 3",
      "language": "python",
      "name": "python3"
    },
    "language_info": {
      "codemirror_mode": {
        "name": "ipython",
        "version": 3
      },
      "file_extension": ".py",
      "mimetype": "text/x-python",
      "name": "python",
      "nbconvert_exporter": "python",
      "pygments_lexer": "ipython3",
      "version": "3.7.6"
    },
    "colab": {
      "name": "Cálculo de Fator de Atrito com o Método de Newton em Python: Implementação e o Pacote SciPy.ipynb",
      "provenance": []
    }
  },
  "cells": [
    {
      "cell_type": "code",
      "metadata": {
        "id": "n5ic1qgmqHZB"
      },
      "source": [
        "from random import randint\n",
        "import numpy as np\n",
        "import matplotlib.pyplot as plt\n",
        "import pandas as pd"
      ],
      "execution_count": null,
      "outputs": []
    },
    {
      "cell_type": "code",
      "metadata": {
        "id": "XC-ABxbRqHZI"
      },
      "source": [
        "e=0.1*10**(-3) # [m] -> Rugosidade da parede interna do duto\n",
        "Din=0.020 # [m] -> Diametro interno do duto\n",
        "rho=998 # [kg/m3] -> Densidade do fluido (agua)\n",
        "mu=0.001 # [Pa/s] -> Viscosidade dinamica do fluido (agua)\n",
        "v=1.0 # [mm/s] -> Velocidade do escoamento\n",
        "Re=rho*Din*v/mu # [] -> Numero de Reynolds"
      ],
      "execution_count": null,
      "outputs": []
    },
    {
      "cell_type": "code",
      "metadata": {
        "id": "yUf3hi_NqHZO"
      },
      "source": [
        "def g(f):\n",
        "    return 1/(f**0.5)+2.0*np.log10(e/(3.7*Din)+2.51/(Re*f**0.5))\n",
        "\n",
        "def gprime(f):\n",
        "    return -0.5*f**(-1.5)-2.51*f**(-1.5)/(Re*(2.51*f**(-0.5)/Re+0.27027027027027*e/Din)*np.log(10))"
      ],
      "execution_count": null,
      "outputs": []
    },
    {
      "cell_type": "code",
      "metadata": {
        "id": "h3LpPseD15o4",
        "colab": {
          "base_uri": "https://localhost:8080/",
          "height": 264
        },
        "outputId": "1a7f5483-49f4-4f2d-b34a-c8bfcd50e839"
      },
      "source": [
        "y=np.arange(0.001, 0.15, 0.005)\n",
        "plt.plot(y,g(y),'o-b');"
      ],
      "execution_count": null,
      "outputs": [
        {
          "output_type": "display_data",
          "data": {
            "image/png": "[encoded data removed]",
            "text/plain": [
              "<Figure size 432x288 with 1 Axes>"
            ]
          },
          "metadata": {
            "tags": [],
            "needs_background": "light"
          }
        }
      ]
    },
    {
      "cell_type": "code",
      "metadata": {
        "id": "R3flX6Yu8gzG",
        "colab": {
          "base_uri": "https://localhost:8080/",
          "height": 264
        },
        "outputId": "00967174-d5c6-418b-e479-bd13ec7a51e7"
      },
      "source": [
        "plt.plot(y,gprime(y),'o-r');"
      ],
      "execution_count": null,
      "outputs": [
        {
          "output_type": "display_data",
          "data": {
            "image/png": "[encoded data removed]",
            "text/plain": [
              "<Figure size 432x288 with 1 Axes>"
            ]
          },
          "metadata": {
            "tags": [],
            "needs_background": "light"
          }
        }
      ]
    },
    {
      "cell_type": "code",
      "metadata": {
        "id": "8UJgeIQNqHZT",
        "colab": {
          "base_uri": "https://localhost:8080/",
          "height": 34
        },
        "outputId": "ca1c93ba-6125-4a01-9d28-83bedfab5f65"
      },
      "source": [
        "f0=randint(1,10)/1000 #Palpite inicial (numero aleatorio)\n",
        "tolerancia=1.00e-08\n",
        "print('f0 = ',f0)"
      ],
      "execution_count": null,
      "outputs": [
        {
          "output_type": "stream",
          "text": [
            "f0 =  0.005\n"
          ],
          "name": "stdout"
        }
      ]
    },
    {
      "cell_type": "code",
      "metadata": {
        "id": "IlOyhh0HqHZY",
        "colab": {
          "base_uri": "https://localhost:8080/",
          "height": 158
        },
        "outputId": "80f510d0-b37d-4a36-947b-1a4582e189c6"
      },
      "source": [
        "delta=1\n",
        "f_lst=[]\n",
        "g_lst=[]\n",
        "gprime_lst=[]\n",
        "guess=f0\n",
        "\n",
        "while (delta > tolerancia):\n",
        "    f = guess-((g(guess))/(gprime(guess)))\n",
        "    delta = abs(f-guess)\n",
        "    f_lst.append(f)\n",
        "    g_lst.append(g(f))\n",
        "    gprime_lst.append(gprime(f))\n",
        "    guess=f\n",
        "results = pd.DataFrame(list(zip(f_lst, g_lst, gprime_lst)), \n",
        "               columns =['fi', 'g(f)','g\\'(f)']) \n",
        "print(results)"
      ],
      "execution_count": null,
      "outputs": [
        {
          "output_type": "stream",
          "text": [
            "         fi          g(f)       g'(f)\n",
            "0  0.011240  4.240942e+00 -437.627541\n",
            "1  0.020931  1.604926e+00 -173.235146\n",
            "2  0.030196  3.888261e-01 -100.307980\n",
            "3  0.034072  3.365095e-02  -83.773894\n",
            "4  0.034474  2.929830e-04  -82.322196\n",
            "5  0.034477  2.255432e-08  -82.309522\n",
            "6  0.034477  0.000000e+00  -82.309521\n"
          ],
          "name": "stdout"
        }
      ]
    },
    {
      "cell_type": "code",
      "metadata": {
        "id": "_NAg8HVNqHZd",
        "colab": {
          "base_uri": "https://localhost:8080/",
          "height": 290
        },
        "outputId": "b0f1c6e1-8bb3-4560-e020-c0879786adaf"
      },
      "source": [
        "plt.rcParams.update({'font.size': 16})\n",
        "plt.figure(1)\n",
        "plt.plot(range(0,len(f_lst)), f_lst, 'o-r')\n",
        "plt.xlabel('Iteracoes')\n",
        "plt.ylabel('fi')\n",
        "plt.show()"
      ],
      "execution_count": null,
      "outputs": [
        {
          "output_type": "display_data",
          "data": {
            "image/png": "[encoded data removed]",
            "text/plain": [
              "<Figure size 432x288 with 1 Axes>"
            ]
          },
          "metadata": {
            "tags": [],
            "needs_background": "light"
          }
        }
      ]
    },
    {
      "cell_type": "code",
      "metadata": {
        "id": "IX5OC3PZqHZi"
      },
      "source": [
        "iterMax=30\n",
        "f2=np.zeros(iterMax)\n",
        "for i in range(1,iterMax):\n",
        "    f2[0]=f0-((g(f0))/(gprime(f0)))\n",
        "    f2[i]=f2[i-1]-((g(f2[i-1]))/(gprime(f2[i-1])))\n",
        "    tol=f2[i]-f2[i-1]\n",
        "    if tol < tolerancia:\n",
        "        indice = i\n",
        "        break "
      ],
      "execution_count": null,
      "outputs": []
    },
    {
      "cell_type": "code",
      "metadata": {
        "id": "NOjn0zwTqHZn",
        "colab": {
          "base_uri": "https://localhost:8080/",
          "height": 290
        },
        "outputId": "1d82d6cd-6416-4407-a291-483e4e90b721"
      },
      "source": [
        "plt.figure(2)\n",
        "plt.plot(range(0,indice),f2[0:indice], 'o-b')\n",
        "plt.xlabel(\"Iteracoes\")\n",
        "plt.ylabel(\"fi\")\n",
        "plt.show()"
      ],
      "execution_count": null,
      "outputs": [
        {
          "output_type": "display_data",
          "data": {
            "image/png": "[encoded data removed]",
            "text/plain": [
              "<Figure size 432x288 with 1 Axes>"
            ]
          },
          "metadata": {
            "tags": [],
            "needs_background": "light"
          }
        }
      ]
    },
    {
      "cell_type": "code",
      "metadata": {
        "id": "1D1Hcp5VqHZs"
      },
      "source": [
        "from scipy import optimize"
      ],
      "execution_count": null,
      "outputs": []
    },
    {
      "cell_type": "code",
      "metadata": {
        "id": "LbXKpnjmqHZ3",
        "colab": {
          "base_uri": "https://localhost:8080/",
          "height": 105
        },
        "outputId": "85723980-5bde-469e-d41e-32c255800c9e"
      },
      "source": [
        "(f3,results3) = optimize.newton(g, f0,gprime,full_output=True)\n",
        "print(results3)"
      ],
      "execution_count": null,
      "outputs": [
        {
          "output_type": "stream",
          "text": [
            "      converged: True\n",
            "           flag: 'converged'\n",
            " function_calls: 14\n",
            "     iterations: 7\n",
            "           root: 0.03447709196136201\n"
          ],
          "name": "stdout"
        }
      ]
    },
    {
      "cell_type": "code",
      "metadata": {
        "scrolled": true,
        "id": "opF037QvqHZ7",
        "colab": {
          "base_uri": "https://localhost:8080/",
          "height": 70
        },
        "outputId": "6464fc1a-d4b6-4581-8487-318ff646e75a"
      },
      "source": [
        "print('O valor de f obtido pelo Método 1 Implementado é: f=', round(f_lst[-1],4)) \n",
        "print('O valor de f obtido pelo Método 2 Implementado é: f=', round(f2[indice],4)) \n",
        "print('O valor de f obtido pela função newton do módudo optimize do Scipy é: f=', round(f3,4))\n"
      ],
      "execution_count": null,
      "outputs": [
        {
          "output_type": "stream",
          "text": [
            "O valor de f obtido pelo Método 1 Implementado é: f= 0.0345\n",
            "O valor de f obtido pelo Método 2 Implementado é: f= 0.0345\n",
            "O valor de f obtido pela função newton do módudo optimize do Scipy é: f= 0.0345\n"
          ],
          "name": "stdout"
        }
      ]
    }
  ]
}